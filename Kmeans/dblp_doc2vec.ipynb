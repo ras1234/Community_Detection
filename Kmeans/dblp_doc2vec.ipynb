{
 "cells": [
  {
   "cell_type": "code",
   "execution_count": 35,
   "metadata": {
    "collapsed": true
   },
   "outputs": [],
   "source": [
    "from gensim import utils\n",
    "from gensim.models.doc2vec import LabeledSentence\n",
    "from gensim.models.doc2vec import TaggedLineDocument\n",
    "from gensim.models import doc2vec\n",
    "from gensim.models import Doc2Vec\n",
    "from gensim import models\n",
    "from sklearn.cluster import KMeans"
   ]
  },
  {
   "cell_type": "code",
   "execution_count": 36,
   "metadata": {
    "collapsed": true
   },
   "outputs": [],
   "source": [
    "# dictionary of title_Id -> title_name\n",
    "fp=open(\"title_Id.txt\",'r')\n",
    "\n",
    "titleId_titleName={}\n",
    "for line in fp:\n",
    "    line=line.strip().split('#')\n",
    "    #print line[0], line[1]\n",
    "    if len(line)!=2:\n",
    "        if len(line)>2:\n",
    "            key=line[-1]\n",
    "            value=\"\"\n",
    "            for i in range(len(line)-1):\n",
    "                value=value+line[i]\n",
    "            titleId_titleName[key]=value \n",
    "    else:\n",
    "        titleId_titleName[line[1]]=line[0]\n",
    "\n",
    "fp.close()"
   ]
  },
  {
   "cell_type": "code",
   "execution_count": 37,
   "metadata": {
    "collapsed": true
   },
   "outputs": [],
   "source": [
    "# dictionary of journal_Id -> journal_name\n",
    "fp=open(\"journal_Id.txt\",'r')\n",
    "\n",
    "journalId_JournalName={}\n",
    "for line in fp:\n",
    "    line=line.strip().split(\"#\")\n",
    "    journalId_JournalName[line[1]]=line[0]\n",
    "\n",
    "fp.close()"
   ]
  },
  {
   "cell_type": "code",
   "execution_count": 38,
   "metadata": {
    "collapsed": true
   },
   "outputs": [],
   "source": [
    "# dictionary of author_Id -> author_name\n",
    "fp= open(\"author_Id.txt\",'r')\n",
    "\n",
    "authorId_authorName={}\n",
    "for line in fp:\n",
    "    line = line.strip().split(\"#\")\n",
    "    authorId_authorName[line[1]]=line[0]\n",
    "fp.close()"
   ]
  },
  {
   "cell_type": "code",
   "execution_count": 39,
   "metadata": {
    "collapsed": true
   },
   "outputs": [],
   "source": [
    "fp= open(\"title_Journal_Author.txt\",'r')\n",
    "\n",
    "authorList=[]\n",
    "titleJournalList=[]\n",
    "for line in fp:\n",
    "    line = line.strip().split(\"#\")\n",
    "    curr= titleId_titleName[line[0]] + \" \" + journalId_JournalName[line[1]]\n",
    "    titleJournalList.append(curr)\n",
    "    tempList=line[2].strip().split('|') #author ids list\n",
    "    tempNameList=[] #authors namelist\n",
    "    for i in tempList:\n",
    "        tempNameList.append(authorId_authorName[i])\n",
    "    authorList.append(tempNameList)\n",
    "    \n",
    "fp.close()"
   ]
  },
  {
   "cell_type": "code",
   "execution_count": 40,
   "metadata": {
    "collapsed": true
   },
   "outputs": [],
   "source": [
    "counter=1\n",
    "sentences = []\n",
    "for line in titleJournalList:\n",
    "    line=line.strip()\n",
    "    sentences.append(doc2vec.LabeledSentence(words=line.split(' '),tags=[str(counter)]))\n",
    "    counter+=1"
   ]
  },
  {
   "cell_type": "code",
   "execution_count": 41,
   "metadata": {
    "collapsed": true
   },
   "outputs": [],
   "source": [
    "# for i in sentences:\n",
    "#     print i"
   ]
  },
  {
   "cell_type": "code",
   "execution_count": 42,
   "metadata": {
    "collapsed": true
   },
   "outputs": [],
   "source": [
    "class LabeledLineSentence(object):\n",
    "    def __init__(self, filename):\n",
    "        self.filename = filename\n",
    "    def __iter__(self):\n",
    "        for uid, line in enumerate(open(filename)):\n",
    "            yield LabeledSentence(words=line.split(), labels=['SENT_%s' % uid])"
   ]
  },
  {
   "cell_type": "code",
   "execution_count": 43,
   "metadata": {
    "collapsed": true
   },
   "outputs": [],
   "source": [
    "model = models.Doc2Vec(alpha=.025, min_alpha=.025, min_count=1)\n",
    "model.build_vocab(sentences)"
   ]
  },
  {
   "cell_type": "code",
   "execution_count": 44,
   "metadata": {
    "collapsed": true
   },
   "outputs": [],
   "source": [
    "for epoch in range(10):\n",
    "    model.train(sentences)\n",
    "    model.alpha -= 0.002  # decrease the learning rate`\n",
    "    model.min_alpha = model.alpha  # fix the learning rate, no decay"
   ]
  },
  {
   "cell_type": "code",
   "execution_count": 45,
   "metadata": {
    "collapsed": true
   },
   "outputs": [],
   "source": [
    "model.save(\"my_model.doc2vec\")\n",
    "model_loaded = models.Doc2Vec.load('my_model.doc2vec')"
   ]
  },
  {
   "cell_type": "code",
   "execution_count": 46,
   "metadata": {
    "collapsed": true
   },
   "outputs": [],
   "source": [
    "textVect = model_loaded.docvecs.doctag_syn0"
   ]
  },
  {
   "cell_type": "code",
   "execution_count": 47,
   "metadata": {},
   "outputs": [
    {
     "data": {
      "text/plain": [
       "KMeans(algorithm='auto', copy_x=True, init='k-means++', max_iter=100,\n",
       "    n_clusters=20, n_init=1, n_jobs=1, precompute_distances='auto',\n",
       "    random_state=None, tol=0.0001, verbose=0)"
      ]
     },
     "execution_count": 47,
     "metadata": {},
     "output_type": "execute_result"
    }
   ],
   "source": [
    "## K-means ##\n",
    "num_clusters = 20\n",
    "km = KMeans(n_clusters=num_clusters, init='k-means++', max_iter=100, n_init=1)\n",
    "km.fit(textVect)\n"
   ]
  },
  {
   "cell_type": "code",
   "execution_count": 49,
   "metadata": {},
   "outputs": [
    {
     "name": "stdout",
     "output_type": "stream",
     "text": [
      "144686\n"
     ]
    }
   ],
   "source": [
    "clusters = km.labels_.tolist()\n",
    "print(len(clusters))\n",
    "#print clusters"
   ]
  },
  {
   "cell_type": "code",
   "execution_count": 18,
   "metadata": {
    "collapsed": true
   },
   "outputs": [],
   "source": [
    "authorClusters={} # Cluster Id to List of authorName\n",
    "for i in range(len(titleJournalList)):\n",
    "    currList=[]\n",
    "\n",
    "    \n",
    "    clusterId=clusters[i]\n",
    "    \n",
    "    curAuthorsList=authorList[i] #authors list for current article\n",
    "    if clusterId in authorClusters.keys():\n",
    "        #fetch the existing list of authors for the clusterId\n",
    "        tempList=authorClusters[clusterId]\n",
    "        for j in curAuthorsList:\n",
    "            tempList.append(j)\n",
    "            \n",
    "        #update authorsClusters with updated authors list\n",
    "        authorClusters[clusterId]=tempList\n",
    "        \n",
    "    else: #create a new key with the new cluster id and make value list of authors for the current article\n",
    "        authorClusters[clusterId]=curAuthorsList\n",
    "\n",
    "# print clusters Id-> author ids\n",
    "\n"
   ]
  },
  {
   "cell_type": "code",
   "execution_count": 19,
   "metadata": {
    "collapsed": true
   },
   "outputs": [],
   "source": [
    "fp=open(\"Kmeans_Doc2vec_output\",\"wr\")\n",
    "\n",
    "for i in authorClusters.keys():\n",
    "    outstr=str(i) + \" => \" + str(authorClusters[i])\n",
    "    fp.write(outstr+\"\\n\")\n",
    "    fp.write(\"**************************************************************************************************************************\"+\"\\n\")\n",
    "fp.close()"
   ]
  },
  {
   "cell_type": "code",
   "execution_count": 50,
   "metadata": {
    "collapsed": true
   },
   "outputs": [],
   "source": [
    "%matplotlib inline"
   ]
  },
  {
   "cell_type": "code",
   "execution_count": 51,
   "metadata": {},
   "outputs": [
    {
     "name": "stdout",
     "output_type": "stream",
     "text": [
      "144686\n"
     ]
    }
   ],
   "source": [
    "print (len(titleJournalList))"
   ]
  },
  {
   "cell_type": "code",
   "execution_count": 52,
   "metadata": {
    "collapsed": true
   },
   "outputs": [],
   "source": [
    "from __future__ import print_function\n",
    "\n",
    "from sklearn.datasets import make_blobs\n",
    "from sklearn.cluster import KMeans\n",
    "from sklearn.metrics import silhouette_samples, silhouette_score, pairwise\n",
    "\n",
    "import matplotlib.pyplot as plt\n",
    "import matplotlib.cm as cm\n",
    "import numpy as np\n"
   ]
  },
  {
   "cell_type": "code",
   "execution_count": 53,
   "metadata": {
    "collapsed": true
   },
   "outputs": [],
   "source": [
    "range_n_clusters = [10,20,50,70,100,130,150,170,200]"
   ]
  },
  {
   "cell_type": "code",
   "execution_count": 54,
   "metadata": {
    "collapsed": true
   },
   "outputs": [],
   "source": [
    "valueList=[]"
   ]
  },
  {
   "cell_type": "code",
   "execution_count": 58,
   "metadata": {},
   "outputs": [
    {
     "name": "stdout",
     "output_type": "stream",
     "text": [
      "For n_clusters = 10 The average silhouette_score is : 0.00734883\n",
      "For n_clusters = 20 The average silhouette_score is : 0.0305645\n",
      "For n_clusters = 50 The average silhouette_score is : 0.0444275\n",
      "For n_clusters = 70 The average silhouette_score is : 0.063843\n",
      "For n_clusters = 100 The average silhouette_score is : 0.0742511\n",
      "For n_clusters = 130 The average silhouette_score is : 0.0762771\n",
      "For n_clusters = 150 The average silhouette_score is : 0.0853631\n",
      "For n_clusters = 170 The average silhouette_score is : 0.0758329\n",
      "For n_clusters = 200 The average silhouette_score is : 0.0797882\n"
     ]
    }
   ],
   "source": [
    "valueList_5000=[]\n",
    "for n_clusters in range_n_clusters:\n",
    "    km = KMeans(n_clusters=n_clusters, init='k-means++', max_iter=100, n_init=1,random_state=10)\n",
    "    cluster_labels = km.fit_predict(textVect)\n",
    "    silhouette_avg = silhouette_score(textVect, cluster_labels, metric='euclidean',sample_size=5000)\n",
    "    valueList_5000.append(silhouette_avg)\n",
    "    print(\"For n_clusters =\", n_clusters,\"The average silhouette_score is :\",- silhouette_avg)"
   ]
  },
  {
   "cell_type": "code",
   "execution_count": 57,
   "metadata": {},
   "outputs": [
    {
     "name": "stdout",
     "output_type": "stream",
     "text": [
      "For n_clusters = 10 The average silhouette_score is : 0.00804543\n",
      "For n_clusters = 20 The average silhouette_score is : 0.0308399\n",
      "For n_clusters = 50 The average silhouette_score is : 0.0485235\n",
      "For n_clusters = 70 The average silhouette_score is : 0.0672753\n",
      "For n_clusters = 100 The average silhouette_score is : 0.074809\n",
      "For n_clusters = 130 The average silhouette_score is : 0.0784348\n",
      "For n_clusters = 150 The average silhouette_score is : 0.0764167\n",
      "For n_clusters = 170 The average silhouette_score is : 0.081752\n",
      "For n_clusters = 200 The average silhouette_score is : 0.078674\n"
     ]
    }
   ],
   "source": [
    "for n_clusters in range_n_clusters:\n",
    "    km = KMeans(n_clusters=n_clusters, init='k-means++', max_iter=100, n_init=1,random_state=10)\n",
    "    cluster_labels = km.fit_predict(textVect)\n",
    "    silhouette_avg = silhouette_score(textVect, cluster_labels, metric='euclidean',sample_size=10000)\n",
    "    valueList.append(silhouette_avg)\n",
    "    print(\"For n_clusters =\", n_clusters,\"The average silhouette_score is :\",- silhouette_avg)"
   ]
  },
  {
   "cell_type": "code",
   "execution_count": 56,
   "metadata": {},
   "outputs": [
    {
     "name": "stdout",
     "output_type": "stream",
     "text": [
      "For n_clusters = 10 The average silhouette_score is : 0.00904671\n",
      "For n_clusters = 20 The average silhouette_score is : 0.0327203\n",
      "For n_clusters = 50 The average silhouette_score is : 0.0486096\n",
      "For n_clusters = 70 The average silhouette_score is : 0.0641635\n",
      "For n_clusters = 100 The average silhouette_score is : 0.0745548\n",
      "For n_clusters = 130 The average silhouette_score is : 0.0757974\n",
      "For n_clusters = 150 The average silhouette_score is : 0.0754469\n",
      "For n_clusters = 170 The average silhouette_score is : 0.0808563\n",
      "For n_clusters = 200 The average silhouette_score is : 0.0794628\n"
     ]
    }
   ],
   "source": [
    "valueList_15000=[]\n",
    "for n_clusters in range_n_clusters:\n",
    "    km = KMeans(n_clusters=n_clusters, init='k-means++', max_iter=100, n_init=1,random_state=10)\n",
    "    cluster_labels = km.fit_predict(textVect)\n",
    "    silhouette_avg = silhouette_score(textVect, cluster_labels, metric='euclidean',sample_size=15000)\n",
    "    valueList_15000.append(silhouette_avg)\n",
    "    print(\"For n_clusters =\", n_clusters,\"The average silhouette_score is :\",- silhouette_avg)"
   ]
  },
  {
   "cell_type": "code",
   "execution_count": 67,
   "metadata": {},
   "outputs": [],
   "source": [
    "score_5000=[]\n",
    "score_10000=[]\n",
    "score_15000=[]\n",
    "\n",
    "for i in valueList_5000:\n",
    "    score_5000.append(-i)\n",
    "\n",
    "for i in valueList:\n",
    "    score_10000.append(-i)\n",
    "\n",
    "for i in valueList_15000:\n",
    "    score_15000.append(-i)\n"
   ]
  },
  {
   "cell_type": "code",
   "execution_count": 71,
   "metadata": {},
   "outputs": [
    {
     "data": {
      "image/png": "[encoded data removed]",
      "text/plain": [
       "<matplotlib.figure.Figure at 0x7f621a9a8990>"
      ]
     },
     "metadata": {},
     "output_type": "display_data"
    }
   ],
   "source": [
    "import matplotlib.pyplot as plt\n",
    "\n",
    "plt.axis([0,200,-0.01,0.15])\n",
    "plt.xlabel('No. of Clusters')\n",
    "plt.ylabel('silhouette_score')\n",
    "\n",
    "plt.plot(range_n_clusters,score_5000,color='b',marker='o',label='Samples=5000')\n",
    "plt.plot(range_n_clusters,score_10000,color='r',marker='o',label='Samples=10000')\n",
    "plt.plot(range_n_clusters,score_15000,color='g',marker='o',label='Samples=15000')\n",
    "\n",
    "plt.legend()\n",
    "plt.show()"
   ]
  },
  {
   "cell_type": "code",
   "execution_count": null,
   "metadata": {
    "collapsed": true
   },
   "outputs": [],
   "source": []
  }
 ],
 "metadata": {
  "kernelspec": {
   "display_name": "Python 2",
   "language": "python",
   "name": "python2"
  },
  "language_info": {
   "codemirror_mode": {
    "name": "ipython",
    "version": 2
   },
   "file_extension": ".py",
   "mimetype": "text/x-python",
   "name": "python",
   "nbconvert_exporter": "python",
   "pygments_lexer": "ipython2",
   "version": "2.7.12"
  }
 },
 "nbformat": 4,
 "nbformat_minor": 2
}
