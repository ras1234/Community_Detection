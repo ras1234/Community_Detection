{
 "cells": [
  {
   "cell_type": "code",
   "execution_count": 5,
   "metadata": {
    "collapsed": true
   },
   "outputs": [],
   "source": [
    "from sklearn.feature_extraction.text import TfidfVectorizer\n",
    "from sklearn.cluster import KMeans"
   ]
  },
  {
   "cell_type": "code",
   "execution_count": 6,
   "metadata": {
    "collapsed": true
   },
   "outputs": [],
   "source": [
    "# dictionary of title_Id -> title_name\n",
    "fp=open(\"title_Id.txt\",'r')\n",
    "\n",
    "titleId_titleName={}\n",
    "for line in fp:\n",
    "    line=line.strip().split('#')\n",
    "    #print line[0], line[1]\n",
    "    if len(line)!=2:\n",
    "        if len(line)>2:\n",
    "            key=line[-1]\n",
    "            value=\"\"\n",
    "            for i in range(len(line)-1):\n",
    "                value=value+line[i]\n",
    "            titleId_titleName[key]=value \n",
    "    else:\n",
    "        titleId_titleName[line[1]]=line[0]\n",
    "\n",
    "fp.close()\n",
    "\n",
    "    "
   ]
  },
  {
   "cell_type": "code",
   "execution_count": 7,
   "metadata": {
    "collapsed": true
   },
   "outputs": [],
   "source": [
    "# dictionary of journal_Id -> journal_name\n",
    "fp=open(\"journal_Id.txt\",'r')\n",
    "\n",
    "journalId_JournalName={}\n",
    "for line in fp:\n",
    "    line=line.strip().split(\"#\")\n",
    "    journalId_JournalName[line[1]]=line[0]\n",
    "\n",
    "fp.close()"
   ]
  },
  {
   "cell_type": "code",
   "execution_count": 8,
   "metadata": {
    "collapsed": true
   },
   "outputs": [],
   "source": [
    "# dictionary of author_Id -> author_name\n",
    "fp= open(\"author_Id.txt\",'r')\n",
    "\n",
    "authorId_authorName={}\n",
    "for line in fp:\n",
    "    line = line.strip().split(\"#\")\n",
    "    authorId_authorName[line[1]]=line[0]\n",
    "fp.close()"
   ]
  },
  {
   "cell_type": "code",
   "execution_count": 9,
   "metadata": {
    "collapsed": true
   },
   "outputs": [],
   "source": [
    "fp= open(\"title_Journal_Author.txt\",'r')\n",
    "\n",
    "authorList=[]\n",
    "titleJournalList=[]\n",
    "for line in fp:\n",
    "    line = line.strip().split(\"#\")\n",
    "    curr= titleId_titleName[line[0]] + \" \" + journalId_JournalName[line[1]]\n",
    "    titleJournalList.append(curr)\n",
    "    tempList=line[2].strip().split('|') #author ids list\n",
    "    tempNameList=[] #authors namelist\n",
    "    for i in tempList:\n",
    "        tempNameList.append(authorId_authorName[i])\n",
    "    authorList.append(tempNameList)\n",
    "    \n",
    "fp.close()"
   ]
  },
  {
   "cell_type": "code",
   "execution_count": 10,
   "metadata": {},
   "outputs": [
    {
     "name": "stdout",
     "output_type": "stream",
     "text": [
      "125296\n"
     ]
    }
   ],
   "source": [
    "# to find a no. of unique words\n",
    "vocab={}\n",
    "for line in titleJournalList:\n",
    "    wordList=line.strip().split()\n",
    "    for word in wordList:\n",
    "        if word in vocab:\n",
    "            vocab[word]=vocab[word]+1\n",
    "        else:\n",
    "            vocab[word]=1\n",
    "\n",
    "print len(vocab)"
   ]
  },
  {
   "cell_type": "code",
   "execution_count": 11,
   "metadata": {
    "collapsed": true
   },
   "outputs": [],
   "source": [
    "vectorizer = TfidfVectorizer(stop_words='english')\n",
    "vec=vectorizer.fit(titleJournalList)\n",
    "vectorized=vec.transform(titleJournalList)\n"
   ]
  },
  {
   "cell_type": "code",
   "execution_count": 12,
   "metadata": {},
   "outputs": [
    {
     "data": {
      "text/plain": [
       "KMeans(algorithm='auto', copy_x=True, init='k-means++', max_iter=100,\n",
       "    n_clusters=20, n_init=1, n_jobs=1, precompute_distances='auto',\n",
       "    random_state=None, tol=0.0001, verbose=0)"
      ]
     },
     "execution_count": 12,
     "metadata": {},
     "output_type": "execute_result"
    }
   ],
   "source": [
    "km = KMeans(n_clusters=20, init='k-means++', max_iter=100, n_init=1)\n",
    "km.fit(vectorized)"
   ]
  },
  {
   "cell_type": "code",
   "execution_count": 13,
   "metadata": {},
   "outputs": [
    {
     "name": "stdout",
     "output_type": "stream",
     "text": [
      "Top terms per cluster:\n",
      "Cluster 0:  computers  circuits  systems  industry  interacting  journal  biomed  design  based  trans\n",
      "Cluster 1:  neural  transactions  ieee  networks  information  learning  forensics  security  biomedicine  netw\n",
      "Cluster 2:  computing  based  wireless  information  systems  networks  mobile  jasist  using  synthese\n",
      "Cluster 3:  comput  parallel  distrib  sci  technol  distributed  networks  based  algorithms  algorithm\n",
      "Cluster 4:  software  engineering  ieee  international  knowledge  journal  development  iee  proceedings  iet\n",
      "Cluster 5:  siam  scientific  computing  equations  method  methods  problems  finite  multigrid  numerical\n",
      "Cluster 6:  physics  comput  communications  computer  method  equations  numerical  finite  flows  simulations\n",
      "Cluster 7:  magazine  lib  digital  library  libraries  preservation  metadata  repository  collections  research\n",
      "Cluster 8:  data  trans  ieee  statistics  analysis  computational  vlsi  knowl  amp  eng\n",
      "Cluster 9:  graph  theory  journal  graphs  number  cycles  chromatic  degree  edge  planar\n",
      "Cluster 10:  cybernetics  knowing  systems  human  fuzzy  based  knowledge  cybernetic  model  machine\n",
      "Cluster 11:  decision  support  systems  based  management  information  knowledge  making  model  approach\n",
      "Cluster 12:  amp  safety  sys  rel  eng  security  privacy  ieee  reliability  risk\n",
      "Cluster 13:  fuzzy  intelligent  journal  systems  based  making  decision  using  control  intuitionistic\n",
      "Cluster 14:  automatica  control  systems  linear  time  nonlinear  robust  stability  feedback  identification\n",
      "Cluster 15:  future  generation  comp  syst  grid  parallel  based  distributed  data  computing\n",
      "Cluster 16:  reliability  microelectronics  power  thermal  high  temperature  gate  failure  analysis  stress\n",
      "Cluster 17:  knowl  based  syst  knowledge  fuzzy  decision  approach  using  systems  model\n",
      "Cluster 18:  logic  dame  notre  formal  pure  ann  appl  journal  modal  theory\n",
      "Cluster 19:  inf  int  acta  game  arab  syst  technol  theory  cooperative  retr\n"
     ]
    }
   ],
   "source": [
    "print(\"Top terms per cluster:\")\n",
    "order_centroids = km.cluster_centers_.argsort()[:, ::-1]\n",
    "terms = vectorizer.get_feature_names()\n",
    "for i in range(20):\n",
    "    print \"Cluster %d:\" % i,\n",
    "    for ind in order_centroids[i, :10]:\n",
    "        print ' %s' % terms[ind],\n",
    "    print"
   ]
  },
  {
   "cell_type": "code",
   "execution_count": 14,
   "metadata": {
    "collapsed": true
   },
   "outputs": [],
   "source": [
    "authorClusters={} # Cluster Id to List of authorName\n",
    "for i in range(len(titleJournalList)):\n",
    "    currList=[]\n",
    "    currList.append(titleJournalList[i])\n",
    "    data_features=vec.transform(currList)\n",
    "    labels=km.predict(data_features)\n",
    "    \n",
    "    clusterId=labels[0]\n",
    "    curAuthorsList=authorList[i] #authors list for current article\n",
    "    if clusterId in authorClusters.keys():\n",
    "        #fetch the existing list of authors for the clusterId\n",
    "        tempList=authorClusters[clusterId]\n",
    "        for j in curAuthorsList:\n",
    "            tempList.append(j)\n",
    "            \n",
    "        #update authorsClusters with updated authors list\n",
    "        authorClusters[clusterId]=tempList\n",
    "        \n",
    "    else: #create a new key with the new cluster id and make value list of authors for the current article\n",
    "        authorClusters[clusterId]=curAuthorsList\n",
    "\n",
    "# print clusters Id-> author ids\n",
    "\n"
   ]
  },
  {
   "cell_type": "code",
   "execution_count": 15,
   "metadata": {
    "collapsed": true
   },
   "outputs": [],
   "source": [
    "fp=open(\"Kmeans_TfIdf_output\",\"wr\")\n",
    "\n",
    "for i in authorClusters.keys():\n",
    "    outstr=str(i) + \" => \" + str(authorClusters[i])\n",
    "    fp.write(outstr+\"\\n\")\n",
    "    fp.write(\"**************************************************************************************************************************\"+\"\\n\")\n",
    "fp.close()\n"
   ]
  },
  {
   "cell_type": "code",
   "execution_count": 16,
   "metadata": {
    "collapsed": true
   },
   "outputs": [],
   "source": [
    "from __future__ import print_function\n",
    "\n",
    "from sklearn.datasets import make_blobs\n",
    "from sklearn.cluster import KMeans\n",
    "from sklearn.metrics import silhouette_samples, silhouette_score, pairwise\n",
    "\n",
    "import matplotlib.pyplot as plt\n",
    "import matplotlib.cm as cm\n",
    "import numpy as np"
   ]
  },
  {
   "cell_type": "code",
   "execution_count": 17,
   "metadata": {
    "collapsed": true
   },
   "outputs": [],
   "source": [
    "range_n_clusters = [10,20,50,70,100,130,150,170,200]"
   ]
  },
  {
   "cell_type": "code",
   "execution_count": 22,
   "metadata": {},
   "outputs": [
    {
     "name": "stdout",
     "output_type": "stream",
     "text": [
      "For n_clusters = 10 The average silhouette_score is : 0.010734032515\n",
      "For n_clusters = 20 The average silhouette_score is : 0.0189018479368\n",
      "For n_clusters = 50 The average silhouette_score is : 0.0370186729109\n",
      "For n_clusters = 70 The average silhouette_score is : 0.0341606141535\n",
      "For n_clusters = 100 The average silhouette_score is : 0.0362486230873\n",
      "For n_clusters = 130 The average silhouette_score is : 0.0330725535286\n",
      "For n_clusters = 150 The average silhouette_score is : 0.0312054547606\n",
      "For n_clusters = 170 The average silhouette_score is : 0.0310797267519\n",
      "For n_clusters = 200 The average silhouette_score is : 0.0283946336987\n"
     ]
    }
   ],
   "source": [
    "valueList_5000=[]\n",
    "for n_clusters in range_n_clusters:\n",
    "    km = KMeans(n_clusters=n_clusters, init='k-means++', max_iter=100, n_init=1,random_state=10)\n",
    "    cluster_labels = km.fit_predict(vectorized)\n",
    "    silhouette_avg = silhouette_score(vectorized, cluster_labels, metric='euclidean',sample_size=5000)\n",
    "    valueList_5000.append(silhouette_avg)\n",
    "    print(\"For n_clusters =\", n_clusters,\"The average silhouette_score is :\", silhouette_avg)"
   ]
  },
  {
   "cell_type": "code",
   "execution_count": 23,
   "metadata": {},
   "outputs": [
    {
     "name": "stdout",
     "output_type": "stream",
     "text": [
      "For n_clusters = 10 The average silhouette_score is : 0.0105448793087\n",
      "For n_clusters = 20 The average silhouette_score is : 0.0183119283923\n",
      "For n_clusters = 50 The average silhouette_score is : 0.0370563180451\n",
      "For n_clusters = 70 The average silhouette_score is : 0.0343865015456\n",
      "For n_clusters = 100 The average silhouette_score is : 0.0363259087534\n",
      "For n_clusters = 130 The average silhouette_score is : 0.0321412732477\n",
      "For n_clusters = 150 The average silhouette_score is : 0.0317292099644\n",
      "For n_clusters = 170 The average silhouette_score is : 0.0319264441636\n",
      "For n_clusters = 200 The average silhouette_score is : 0.0301362632732\n"
     ]
    }
   ],
   "source": [
    "valueList_10000=[]\n",
    "for n_clusters in range_n_clusters:\n",
    "    km = KMeans(n_clusters=n_clusters, init='k-means++', max_iter=100, n_init=1,random_state=10)\n",
    "    cluster_labels = km.fit_predict(vectorized)\n",
    "    silhouette_avg = silhouette_score(vectorized, cluster_labels, metric='euclidean',sample_size=10000)\n",
    "    valueList_10000.append(silhouette_avg)\n",
    "    print(\"For n_clusters =\", n_clusters,\"The average silhouette_score is :\", silhouette_avg)"
   ]
  },
  {
   "cell_type": "code",
   "execution_count": 19,
   "metadata": {},
   "outputs": [
    {
     "name": "stdout",
     "output_type": "stream",
     "text": [
      "For n_clusters = 10 The average silhouette_score is : 0.0108246198577\n",
      "For n_clusters = 20 The average silhouette_score is : 0.018177873247\n",
      "For n_clusters = 50 The average silhouette_score is : 0.0367729002117\n",
      "For n_clusters = 70 The average silhouette_score is : 0.0342381974225\n",
      "For n_clusters = 100 The average silhouette_score is : 0.0366813813101\n",
      "For n_clusters = 130 The average silhouette_score is : 0.0327856670438\n",
      "For n_clusters = 150 The average silhouette_score is : 0.0324619651998\n",
      "For n_clusters = 170 The average silhouette_score is : 0.0313815821048\n",
      "For n_clusters = 200 The average silhouette_score is : 0.0284556317012\n"
     ]
    }
   ],
   "source": [
    "valueList_15000=[]\n",
    "for n_clusters in range_n_clusters:\n",
    "    km = KMeans(n_clusters=n_clusters, init='k-means++', max_iter=100, n_init=1,random_state=10)\n",
    "    cluster_labels = km.fit_predict(vectorized)\n",
    "    silhouette_avg = silhouette_score(vectorized, cluster_labels, metric='euclidean',sample_size=15000)\n",
    "    valueList_15000.append(silhouette_avg)\n",
    "    print(\"For n_clusters =\", n_clusters,\"The average silhouette_score is :\", silhouette_avg)"
   ]
  },
  {
   "cell_type": "code",
   "execution_count": 46,
   "metadata": {},
   "outputs": [
    {
     "data": {
      "image/png": "[encoded data removed]",
      "text/plain": [
       "<matplotlib.figure.Figure at 0x7f01369a1c50>"
      ]
     },
     "metadata": {},
     "output_type": "display_data"
    }
   ],
   "source": [
    "import matplotlib.pyplot as plt\n",
    "\n",
    "plt.axis([0,200,-0.01,0.06])\n",
    "plt.xlabel('No. of Clusters')\n",
    "plt.ylabel('silhouette_score')\n",
    "\n",
    "plt.plot(range_n_clusters,valueList_5000,color='b',marker='o',label='Samples=5000')\n",
    "plt.plot(range_n_clusters,valueList_10000,color='r',marker='o',label='Samples=10000')\n",
    "plt.plot(range_n_clusters,valueList_15000,color='g',marker='o',label='Samples=15000')\n",
    "\n",
    "plt.legend()\n",
    "plt.show()"
   ]
  },
  {
   "cell_type": "code",
   "execution_count": null,
   "metadata": {
    "collapsed": true
   },
   "outputs": [],
   "source": []
  }
 ],
 "metadata": {
  "kernelspec": {
   "display_name": "Python 2",
   "language": "python",
   "name": "python2"
  },
  "language_info": {
   "codemirror_mode": {
    "name": "ipython",
    "version": 2
   },
   "file_extension": ".py",
   "mimetype": "text/x-python",
   "name": "python",
   "nbconvert_exporter": "python",
   "pygments_lexer": "ipython2",
   "version": "2.7.12"
  }
 },
 "nbformat": 4,
 "nbformat_minor": 2
}
