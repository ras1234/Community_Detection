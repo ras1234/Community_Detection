{
 "cells": [
  {
   "cell_type": "code",
   "execution_count": 2,
   "metadata": {
    "collapsed": true
   },
   "outputs": [],
   "source": [
    "from gensim import utils\n",
    "from gensim.models.doc2vec import LabeledSentence\n",
    "from gensim.models.doc2vec import TaggedLineDocument\n",
    "from gensim.models import doc2vec\n",
    "from gensim.models import Doc2Vec\n",
    "from gensim import models\n",
    "from sklearn.cluster import KMeans"
   ]
  },
  {
   "cell_type": "code",
   "execution_count": 3,
   "metadata": {
    "collapsed": true
   },
   "outputs": [],
   "source": [
    "# dictionary of title_Id -> title_name\n",
    "fp=open(\"title_Id.txt\",'r')\n",
    "\n",
    "titleId_titleName={}\n",
    "for line in fp:\n",
    "    line=line.strip().split('#')\n",
    "    #print line[0], line[1]\n",
    "    if len(line)!=2:\n",
    "        if len(line)>2:\n",
    "            key=line[-1]\n",
    "            value=\"\"\n",
    "            for i in range(len(line)-1):\n",
    "                value=value+line[i]\n",
    "            titleId_titleName[key]=value \n",
    "    else:\n",
    "        titleId_titleName[line[1]]=line[0]\n",
    "\n",
    "fp.close()"
   ]
  },
  {
   "cell_type": "code",
   "execution_count": 4,
   "metadata": {
    "collapsed": true
   },
   "outputs": [],
   "source": [
    "# dictionary of journal_Id -> journal_name\n",
    "fp=open(\"journal_Id.txt\",'r')\n",
    "\n",
    "journalId_JournalName={}\n",
    "for line in fp:\n",
    "    line=line.strip().split(\"#\")\n",
    "    journalId_JournalName[line[1]]=line[0]\n",
    "\n",
    "fp.close()"
   ]
  },
  {
   "cell_type": "code",
   "execution_count": 5,
   "metadata": {
    "collapsed": true
   },
   "outputs": [],
   "source": [
    "# dictionary of author_Id -> author_name\n",
    "fp= open(\"author_Id.txt\",'r')\n",
    "\n",
    "authorId_authorName={}\n",
    "for line in fp:\n",
    "    line = line.strip().split(\"#\")\n",
    "    authorId_authorName[line[1]]=line[0]\n",
    "fp.close()"
   ]
  },
  {
   "cell_type": "code",
   "execution_count": 6,
   "metadata": {
    "collapsed": true
   },
   "outputs": [],
   "source": [
    "fp= open(\"title_Journal_Author.txt\",'r')\n",
    "\n",
    "authorList=[]\n",
    "titleJournalList=[]\n",
    "for line in fp:\n",
    "    line = line.strip().split(\"#\")\n",
    "    curr= titleId_titleName[line[0]] + \" \" + journalId_JournalName[line[1]]\n",
    "    titleJournalList.append(curr)\n",
    "    tempList=line[2].strip().split('|') #author ids list\n",
    "    tempNameList=[] #authors namelist\n",
    "    for i in tempList:\n",
    "        tempNameList.append(authorId_authorName[i])\n",
    "    authorList.append(tempNameList)\n",
    "    \n",
    "fp.close()"
   ]
  },
  {
   "cell_type": "code",
   "execution_count": 7,
   "metadata": {
    "collapsed": true
   },
   "outputs": [],
   "source": [
    "counter=1\n",
    "sentences = []\n",
    "for line in titleJournalList:\n",
    "    line=line.strip()\n",
    "    sentences.append(doc2vec.LabeledSentence(words=line.split(' '),tags=[str(counter)]))\n",
    "    counter+=1"
   ]
  },
  {
   "cell_type": "code",
   "execution_count": 9,
   "metadata": {},
   "outputs": [],
   "source": [
    "# for i in sentences:\n",
    "#     print i"
   ]
  },
  {
   "cell_type": "code",
   "execution_count": 10,
   "metadata": {
    "collapsed": true
   },
   "outputs": [],
   "source": [
    "class LabeledLineSentence(object):\n",
    "    def __init__(self, filename):\n",
    "        self.filename = filename\n",
    "    def __iter__(self):\n",
    "        for uid, line in enumerate(open(filename)):\n",
    "            yield LabeledSentence(words=line.split(), labels=['SENT_%s' % uid])"
   ]
  },
  {
   "cell_type": "code",
   "execution_count": 11,
   "metadata": {
    "collapsed": true
   },
   "outputs": [],
   "source": [
    "model = models.Doc2Vec(alpha=.025, min_alpha=.025, min_count=1)\n",
    "model.build_vocab(sentences)"
   ]
  },
  {
   "cell_type": "code",
   "execution_count": 12,
   "metadata": {
    "collapsed": true
   },
   "outputs": [],
   "source": [
    "for epoch in range(10):\n",
    "    model.train(sentences)\n",
    "    model.alpha -= 0.002  # decrease the learning rate`\n",
    "    model.min_alpha = model.alpha  # fix the learning rate, no decay"
   ]
  },
  {
   "cell_type": "code",
   "execution_count": 13,
   "metadata": {
    "collapsed": true
   },
   "outputs": [],
   "source": [
    "model.save(\"my_model.doc2vec\")\n",
    "model_loaded = models.Doc2Vec.load('my_model.doc2vec')"
   ]
  },
  {
   "cell_type": "code",
   "execution_count": 16,
   "metadata": {},
   "outputs": [
    {
     "name": "stdout",
     "output_type": "stream",
     "text": [
      "[-0.3720538  -0.08764467 -0.06261565 -0.08235688  0.0661135  -0.33204377\n",
      "  0.01837055 -0.44129243 -0.07465546 -0.28820798  0.31456307 -0.3754333\n",
      "  0.16367573 -0.07561693 -0.31452221  0.05509616 -0.13608979  0.0201086\n",
      "  0.2489516  -0.14952436  0.073456   -0.2517744  -0.0806452   0.24877824\n",
      " -0.32063231  0.03761401 -0.36454731  0.44969833  0.25370854  0.30291328\n",
      " -0.19240066 -0.09687305 -0.12147283  0.05574222  0.26502222  0.11323296\n",
      "  0.29159546  0.10415285 -0.26486909 -0.28492537 -0.06337057  0.04695461\n",
      " -0.02691752 -0.11615108  0.13287148  0.16239545 -0.12982281 -0.02385618\n",
      "  0.5137766   0.46211064  0.050829   -0.29585522  0.14765885  0.30570862\n",
      " -0.08521624  0.30228809  0.15462352 -0.15862946  0.24627227 -0.17489485\n",
      " -0.01904823  0.25469264  0.26738134  0.17964081 -0.01347092 -0.20722939\n",
      " -0.1299348  -0.02210463  0.0162619  -0.30571461  0.31414166 -0.07045689\n",
      " -0.43584859  0.11137713  0.01542712  0.14794467  0.28037134 -0.17193809\n",
      " -0.19049616  0.05177775 -0.37818331  0.28833771 -0.10931182 -0.34272438\n",
      "  0.45600966  0.15698209  0.3013697  -0.06107626 -0.14692104  0.01912317\n",
      " -0.25748774  0.65582365  0.13567904 -0.15434709 -0.33861971 -0.18156353\n",
      " -0.02288979 -0.0572954   0.41436753 -0.18947743]\n"
     ]
    }
   ],
   "source": [
    "print model_loaded.docvecs[0]"
   ]
  },
  {
   "cell_type": "code",
   "execution_count": null,
   "metadata": {
    "collapsed": true
   },
   "outputs": [],
   "source": [
    "km = KMeans(n_clusters=20, init='k-means++', max_iter=100, n_init=1)\n",
    "#km.fit(vectorized)"
   ]
  }
 ],
 "metadata": {
  "kernelspec": {
   "display_name": "Python 2",
   "language": "python",
   "name": "python2"
  },
  "language_info": {
   "codemirror_mode": {
    "name": "ipython",
    "version": 2
   },
   "file_extension": ".py",
   "mimetype": "text/x-python",
   "name": "python",
   "nbconvert_exporter": "python",
   "pygments_lexer": "ipython2",
   "version": "2.7.12"
  }
 },
 "nbformat": 4,
 "nbformat_minor": 2
}
