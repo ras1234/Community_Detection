{
 "cells": [
  {
   "cell_type": "code",
   "execution_count": 57,
   "metadata": {
    "collapsed": true
   },
   "outputs": [],
   "source": [
    "from gensim import utils\n",
    "from gensim.models.doc2vec import LabeledSentence\n",
    "from gensim.models.doc2vec import TaggedLineDocument\n",
    "from gensim.models import doc2vec\n",
    "from gensim.models import Doc2Vec\n",
    "from gensim import models\n"
   ]
  },
  {
   "cell_type": "code",
   "execution_count": 58,
   "metadata": {},
   "outputs": [
    {
     "name": "stdout",
     "output_type": "stream",
     "text": [
      "LabeledSentence(['im', 'looking', 'for', 'a', 'moderately', 'priced', 'restaurant', 'in', 'the', 'girton', 'area'], ['1'])\n",
      "LabeledSentence(['international'], ['2'])\n",
      "LabeledSentence(['what', 'is', 'the', 'address', 'phone', 'number', 'and', 'type', 'of', 'food'], ['3'])\n",
      "LabeledSentence(['what', 'type', 'of', 'food', 'does', 'it', 'serve'], ['4'])\n",
      "LabeledSentence(['thank', 'you', 'good', 'bye'], ['5'])\n",
      "LabeledSentence(['international'], ['6'])\n",
      "LabeledSentence(['international', 'model'], ['7'])\n",
      "LabeledSentence([''], ['8'])\n"
     ]
    }
   ],
   "source": [
    "fh = open(\"user.txt\",'r')\n",
    "counter=1\n",
    "sentences = []\n",
    "for line in fh:\n",
    "    line=line.strip()\n",
    "    sentences.append(doc2vec.LabeledSentence(words=line.split(' '),tags=[str(counter)]))\n",
    "    counter+=1\n",
    "\n",
    "\n",
    "for i in sentences:\n",
    "    print i"
   ]
  },
  {
   "cell_type": "code",
   "execution_count": 59,
   "metadata": {
    "collapsed": true
   },
   "outputs": [],
   "source": [
    "class LabeledLineSentence(object):\n",
    "    def __init__(self, filename):\n",
    "        self.filename = filename\n",
    "    def __iter__(self):\n",
    "        for uid, line in enumerate(open(filename)):\n",
    "            yield LabeledSentence(words=line.split(), labels=['SENT_%s' % uid])"
   ]
  },
  {
   "cell_type": "code",
   "execution_count": 60,
   "metadata": {},
   "outputs": [],
   "source": [
    "model = models.Doc2Vec(alpha=.025, min_alpha=.025, min_count=1)\n",
    "model.build_vocab(sentences)"
   ]
  },
  {
   "cell_type": "code",
   "execution_count": 61,
   "metadata": {
    "collapsed": true
   },
   "outputs": [],
   "source": [
    "for epoch in range(10):\n",
    "    model.train(sentences)\n",
    "    model.alpha -= 0.002  # decrease the learning rate`\n",
    "    model.min_alpha = model.alpha  # fix the learning rate, no decay"
   ]
  },
  {
   "cell_type": "code",
   "execution_count": 62,
   "metadata": {
    "collapsed": true
   },
   "outputs": [],
   "source": [
    "model.save(\"my_model.doc2vec\")\n",
    "model_loaded = models.Doc2Vec.load('my_model.doc2vec')"
   ]
  },
  {
   "cell_type": "code",
   "execution_count": 66,
   "metadata": {},
   "outputs": [
    {
     "name": "stdout",
     "output_type": "stream",
     "text": [
      "[('7', 0.894972562789917), ('5', 0.8942111730575562), ('6', 0.8514748811721802), ('2', 0.8404178023338318), ('3', 0.020124033093452454), ('8', -0.8672077655792236), ('1', -0.9087647199630737)]\n"
     ]
    }
   ],
   "source": [
    "#print model.docvecs.most_similar([\"14\"])\n",
    "#print model['what is the address phone number and type of food']\n",
    "print model_loaded.docvecs.most_similar([\"4\"])"
   ]
  },
  {
   "cell_type": "code",
   "execution_count": null,
   "metadata": {
    "collapsed": true
   },
   "outputs": [],
   "source": []
  }
 ],
 "metadata": {
  "kernelspec": {
   "display_name": "Python 2",
   "language": "python",
   "name": "python2"
  },
  "language_info": {
   "codemirror_mode": {
    "name": "ipython",
    "version": 2
   },
   "file_extension": ".py",
   "mimetype": "text/x-python",
   "name": "python",
   "nbconvert_exporter": "python",
   "pygments_lexer": "ipython2",
   "version": "2.7.12"
  }
 },
 "nbformat": 4,
 "nbformat_minor": 1
}
