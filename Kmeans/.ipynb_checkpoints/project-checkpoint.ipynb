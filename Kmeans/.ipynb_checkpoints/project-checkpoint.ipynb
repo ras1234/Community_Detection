{
 "cells": [
  {
   "cell_type": "code",
   "execution_count": 191,
   "metadata": {
    "collapsed": true
   },
   "outputs": [],
   "source": [
    "from gensim import utils\n",
    "from gensim.models.doc2vec import LabeledSentence\n",
    "from gensim.models.doc2vec import TaggedLineDocument\n",
    "from gensim.models import doc2vec\n",
    "from gensim.models import Doc2Vec\n",
    "from gensim import models\n",
    "import numpy as np\n",
    "from math import *\n",
    "from sklearn.metrics.pairwise import cosine_similarity\n",
    "\n",
    "\n"
   ]
  },
  {
   "cell_type": "code",
   "execution_count": 192,
   "metadata": {
    "collapsed": true
   },
   "outputs": [],
   "source": [
    "fnames=[\"DSTC2.txt\"]"
   ]
  },
  {
   "cell_type": "code",
   "execution_count": 193,
   "metadata": {},
   "outputs": [],
   "source": [
    "def getData(fname):\n",
    "    global userSentences\n",
    "    global userToSys\n",
    "    fh=open(fname,'r')\n",
    "\n",
    "\n",
    "    tempList=[]\n",
    "    prev=\"\"\n",
    "    for line in fh:\n",
    "        line=line.strip()\n",
    "        \n",
    "        temp=line.strip().split(':')\n",
    "\n",
    "        if line.startswith(\"User\"):\n",
    "            userSentences.append(temp[1])\n",
    "            prev = temp[1]\n",
    "            \n",
    "        elif line.startswith(\"System\") and len(prev)>1 :\n",
    "            if prev in userToSys:\n",
    "                tempdict = userToSys[prev]\n",
    "                if temp[1] in tempdict:\n",
    "                    tempdict[temp[1]]+=1\n",
    "                    \n",
    "                else:\n",
    "                    tempdict[temp[1]]=1\n",
    "                userToSys[prev] = tempdict\n",
    "            else:\n",
    "                tempdict={}\n",
    "                tempdict[temp[1]]=1\n",
    "                userToSys[prev]=tempdict\n",
    "                \n",
    "                \n",
    "        else:\n",
    "            prev=\"\""
   ]
  },
  {
   "cell_type": "code",
   "execution_count": 194,
   "metadata": {},
   "outputs": [],
   "source": [
    "userSentences=[] #list of user sentences\n",
    "userToSys={} #dictionary of dictionaries; tracks usersentence as key and system responses along with their freq\n",
    "for i in range(len(fnames)):\n",
    "\tgetData(fnames[i])\n",
    "\n",
    "userSentences = set(userSentences)"
   ]
  },
  {
   "cell_type": "code",
   "execution_count": 195,
   "metadata": {},
   "outputs": [],
   "source": [
    "counter=1\n",
    "sentences = []\n",
    "for line in userSentences:\n",
    "    line=line.strip()\n",
    "    sentences.append(doc2vec.LabeledSentence(words=line.split(' '),tags=[str(counter)]))\n",
    "    counter+=1\n"
   ]
  },
  {
   "cell_type": "code",
   "execution_count": 196,
   "metadata": {},
   "outputs": [],
   "source": [
    "#for i in sentences:\n",
    "#    print i"
   ]
  },
  {
   "cell_type": "code",
   "execution_count": 197,
   "metadata": {
    "collapsed": true
   },
   "outputs": [],
   "source": [
    "class LabeledLineSentence(object):\n",
    "    def __init__(self, filename):\n",
    "        self.filename = filename\n",
    "    def __iter__(self):\n",
    "        for uid, line in enumerate(open(filename)):\n",
    "            yield LabeledSentence(words=line.split(), labels=['SENT_%s' % uid])\n",
    "            #print words,labels"
   ]
  },
  {
   "cell_type": "code",
   "execution_count": 198,
   "metadata": {},
   "outputs": [],
   "source": [
    "model = models.Doc2Vec(alpha=.025, min_alpha=.025, min_count=1)\n",
    "model.build_vocab(sentences)\n"
   ]
  },
  {
   "cell_type": "code",
   "execution_count": 199,
   "metadata": {},
   "outputs": [],
   "source": [
    "for epoch in range(10):\n",
    "    model.random = np.random.RandomState(1234)\n",
    "    model.train(sentences)\n",
    "    model.alpha -= 0.002  # decrease the learning rate`\n",
    "    model.min_alpha = model.alpha  # fix the learning rate, no decay"
   ]
  },
  {
   "cell_type": "code",
   "execution_count": 200,
   "metadata": {
    "collapsed": true
   },
   "outputs": [],
   "source": [
    "model.save(\"my_model.doc2vec\")\n",
    "model_loaded = models.Doc2Vec.load('my_model.doc2vec')"
   ]
  },
  {
   "cell_type": "code",
   "execution_count": 201,
   "metadata": {},
   "outputs": [],
   "source": [
    "model.random = np.random.RandomState(1234)\n",
    "a1 = model.infer_vector(\"lebanese restaurant in the west part of town\")\n",
    "model.random = np.random.RandomState(1234)\n",
    "a2 = model.infer_vector(\"lebanese restaurant in the west part\")\n",
    "model.random = np.random.RandomState(1234)\n",
    "\n"
   ]
  },
  {
   "cell_type": "code",
   "execution_count": 202,
   "metadata": {
    "collapsed": true
   },
   "outputs": [],
   "source": [
    "def cosSim(a1,a2):\n",
    "    num = a1.dot(a2)\n",
    "    mod1 = a1.dot(a1)\n",
    "    mod2 = a2.dot(a2)\n",
    "    mod1 = sqrt(mod1)\n",
    "    mod2 = sqrt(mod2)\n",
    "    den = mod1*mod2\n",
    "    cosine = num/float(den)\n",
    "    return cosine\n",
    "        "
   ]
  },
  {
   "cell_type": "code",
   "execution_count": null,
   "metadata": {},
   "outputs": [],
   "source": [
    "while(1):\n",
    "    inText=raw_input(\"enter a sentence: \")\n",
    "    model.random = np.random.RandomState(1234)\n",
    "    a1 = model.infer_vector(inText)\n",
    "    targetUserSent=\"\"\n",
    "    curMax=-1.0\n",
    "    for sent in userSentences:\n",
    "        model.random = np.random.RandomState(1234)\n",
    "        a2 = model.infer_vector(sent)\n",
    "        if cosSim(a1,a2)>curMax:\n",
    "            curMax=cosSim(a1,a2)\n",
    "            targetUserSent=sent\n",
    "    \n",
    "    print targetUserSent,curMax\n",
    "    target = \"\"\n",
    "    maxFreq = -1\n",
    "    for sent in userToSys[targetUserSent]:\n",
    "        if userToSys[targetUserSent][sent]>maxFreq:\n",
    "            target=sent\n",
    "            maxFreq=userToSys[targetUserSent][sent]\n",
    "    print target\n",
    "    "
   ]
  },
  {
   "cell_type": "code",
   "execution_count": null,
   "metadata": {
    "collapsed": true
   },
   "outputs": [],
   "source": []
  }
 ],
 "metadata": {
  "kernelspec": {
   "display_name": "Python 2",
   "language": "python",
   "name": "python2"
  },
  "language_info": {
   "codemirror_mode": {
    "name": "ipython",
    "version": 2
   },
   "file_extension": ".py",
   "mimetype": "text/x-python",
   "name": "python",
   "nbconvert_exporter": "python",
   "pygments_lexer": "ipython2",
   "version": "2.7.12"
  }
 },
 "nbformat": 4,
 "nbformat_minor": 1
}
