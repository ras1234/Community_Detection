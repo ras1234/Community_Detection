{
 "cells": [
  {
   "cell_type": "code",
   "execution_count": 1,
   "metadata": {
    "collapsed": true
   },
   "outputs": [],
   "source": [
    "from sklearn.feature_extraction.text import CountVectorizer\n",
    "from sklearn.cluster import KMeans\n"
   ]
  },
  {
   "cell_type": "code",
   "execution_count": 2,
   "metadata": {
    "collapsed": true
   },
   "outputs": [],
   "source": [
    "# dictionary of title_Id -> title_name\n",
    "fp=open(\"title_Id.txt\",'r')\n",
    "\n",
    "titleId_titleName={}\n",
    "for line in fp:\n",
    "    line=line.strip().split('#')\n",
    "    #print line[0], line[1]\n",
    "    if len(line)!=2:\n",
    "        if len(line)>2:\n",
    "            key=line[-1]\n",
    "            value=\"\"\n",
    "            for i in range(len(line)-1):\n",
    "                value=value+line[i]\n",
    "            titleId_titleName[key]=value \n",
    "    else:\n",
    "        titleId_titleName[line[1]]=line[0]\n",
    "\n",
    "fp.close()\n",
    "\n",
    "    "
   ]
  },
  {
   "cell_type": "code",
   "execution_count": 3,
   "metadata": {
    "collapsed": true
   },
   "outputs": [],
   "source": [
    "# dictionary of journal_Id -> journal_name\n",
    "fp=open(\"journal_Id.txt\",'r')\n",
    "\n",
    "journalId_JournalName={}\n",
    "for line in fp:\n",
    "    line=line.strip().split(\"#\")\n",
    "    journalId_JournalName[line[1]]=line[0]\n",
    "\n",
    "fp.close()"
   ]
  },
  {
   "cell_type": "code",
   "execution_count": 4,
   "metadata": {
    "collapsed": true
   },
   "outputs": [],
   "source": [
    "# dictionary of author_Id -> author_name\n",
    "fp= open(\"author_Id.txt\",'r')\n",
    "\n",
    "authorId_authorName={}\n",
    "for line in fp:\n",
    "    line = line.strip().split(\"#\")\n",
    "    authorId_authorName[line[1]]=line[0]\n",
    "fp.close()"
   ]
  },
  {
   "cell_type": "code",
   "execution_count": 5,
   "metadata": {
    "collapsed": true
   },
   "outputs": [],
   "source": [
    "fp= open(\"title_Journal_Author.txt\",'r')\n",
    "\n",
    "authorList=[]\n",
    "titleJournalList=[]\n",
    "for line in fp:\n",
    "    line = line.strip().split(\"#\")\n",
    "    curr= titleId_titleName[line[0]] + \" \" + journalId_JournalName[line[1]]\n",
    "    titleJournalList.append(curr)\n",
    "    tempList=line[2].strip().split('|') #author ids list\n",
    "    tempNameList=[] #authors namelist\n",
    "    for i in tempList:\n",
    "        tempNameList.append(authorId_authorName[i])\n",
    "    authorList.append(tempNameList)\n",
    "    \n",
    "fp.close()"
   ]
  },
  {
   "cell_type": "code",
   "execution_count": 6,
   "metadata": {
    "collapsed": true
   },
   "outputs": [],
   "source": [
    "#print len(authorList)\n",
    "#print len(titleJournalList)\n",
    "#print authorList[2], titleJournalList[2]\n"
   ]
  },
  {
   "cell_type": "code",
   "execution_count": 7,
   "metadata": {},
   "outputs": [
    {
     "name": "stdout",
     "output_type": "stream",
     "text": [
      "125296\n"
     ]
    }
   ],
   "source": [
    "# to find a no. of unique words\n",
    "vocab={}\n",
    "for line in titleJournalList:\n",
    "    wordList=line.strip().split()\n",
    "    for word in wordList:\n",
    "        if word in vocab:\n",
    "            vocab[word]=vocab[word]+1\n",
    "        else:\n",
    "            vocab[word]=1\n",
    "\n",
    "print len(vocab)"
   ]
  },
  {
   "cell_type": "code",
   "execution_count": 8,
   "metadata": {
    "collapsed": true
   },
   "outputs": [],
   "source": [
    "vectorizer = CountVectorizer(analyzer = \"word\", tokenizer = None, preprocessor = None, stop_words = 'english', max_features = 70000)\n",
    "vec=vectorizer.fit(titleJournalList)\n",
    "vectorized=vec.transform(titleJournalList)\n",
    "\n"
   ]
  },
  {
   "cell_type": "code",
   "execution_count": 9,
   "metadata": {
    "collapsed": true
   },
   "outputs": [],
   "source": [
    "#print vectorizer"
   ]
  },
  {
   "cell_type": "code",
   "execution_count": 10,
   "metadata": {
    "collapsed": true
   },
   "outputs": [],
   "source": [
    "#print type(vectorized)"
   ]
  },
  {
   "cell_type": "code",
   "execution_count": 14,
   "metadata": {},
   "outputs": [
    {
     "data": {
      "text/plain": [
       "KMeans(algorithm='auto', copy_x=True, init='k-means++', max_iter=100,\n",
       "    n_clusters=20, n_init=1, n_jobs=1, precompute_distances='auto',\n",
       "    random_state=None, tol=0.0001, verbose=0)"
      ]
     },
     "execution_count": 14,
     "metadata": {},
     "output_type": "execute_result"
    }
   ],
   "source": [
    "\n",
    "cluster_size=20\n",
    "km = KMeans(n_clusters=cluster_size, init='k-means++', max_iter=100, n_init=1)\n",
    "km.fit(vectorized)\n"
   ]
  },
  {
   "cell_type": "code",
   "execution_count": 15,
   "metadata": {},
   "outputs": [
    {
     "name": "stdout",
     "output_type": "stream",
     "text": [
      "Top terms per cluster:\n",
      "Cluster 0:  comput  technol  sci  based  algorithm  model  networks  data  approach  using\n",
      "Cluster 1:  ieee  trans  syst  vlsi  learning  neural  netw  power  based  design\n",
      "Cluster 2:  graph  theory  journal  graphs  number  cycles  logic  formal  dame  chromatic\n",
      "Cluster 3:  model  math  log  based  physics  image  comput  processing  graphical  using\n",
      "Cluster 4:  neural  networks  ieee  transactions  network  learning  using  based  time  control\n",
      "Cluster 5:  wireless  networks  sensor  mobile  computing  communications  ijdsn  ad  hoc  based\n",
      "Cluster 6:  systems  journal  fuzzy  automatica  intelligent  computers  circuits  control  based  operating\n",
      "Cluster 7:  ieee  trans  data  software  eng  knowl  education  systems  based  using\n",
      "Cluster 8:  physics  computing  comput  based  computer  reliability  logic  using  microelectronics  journal\n",
      "Cluster 9:  future  syst  generation  comp  using  resource  grids  data  based  grid\n",
      "Cluster 10:  decision  support  systems  based  information  management  model  knowledge  approach  analysis\n",
      "Cluster 11:  safety  eng  amp  sys  rel  reliability  analysis  systems  based  risk\n",
      "Cluster 12:  parallel  comput  distrib  networks  distributed  systems  algorithms  based  performance  algorithm\n",
      "Cluster 13:  security  ieee  privacy  information  amp  forensics  transactions  based  using  data\n",
      "Cluster 14:  generation  future  comp  syst  based  grid  parallel  computing  data  systems\n",
      "Cluster 15:  inf  syst  int  arab  technol  comput  sci  cooperative  based  acm\n",
      "Cluster 16:  data  analysis  statistics  computational  amp  models  estimation  model  regression  bayesian\n",
      "Cluster 17:  based  syst  knowl  knowledge  using  fuzzy  systems  approach  decision  data\n",
      "Cluster 18:  information  technology  ieee  transactions  biomedicine  science  systems  computer  jasis  jasist\n",
      "Cluster 19:  engineering  software  journal  knowledge  international  based  systems  ieee  using  approach\n"
     ]
    }
   ],
   "source": [
    "print(\"Top terms per cluster:\")\n",
    "order_centroids = km.cluster_centers_.argsort()[:, ::-1]\n",
    "terms = vectorizer.get_feature_names()\n",
    "for i in range(cluster_size):\n",
    "    print \"Cluster %d:\" % i,\n",
    "    for ind in order_centroids[i, :10]:\n",
    "        print ' %s' % terms[ind],\n",
    "    print"
   ]
  },
  {
   "cell_type": "code",
   "execution_count": 16,
   "metadata": {},
   "outputs": [],
   "source": [
    "authorClusters={} # Cluster Id to List of authorName\n",
    "for i in range(len(titleJournalList)):\n",
    "    currList=[]\n",
    "    currList.append(titleJournalList[i])\n",
    "    data_features=vec.transform(currList)\n",
    "    labels=km.predict(data_features)\n",
    "    \n",
    "    clusterId=labels[0]\n",
    "    curAuthorsList=authorList[i] #authors list for current article\n",
    "    if clusterId in authorClusters.keys():\n",
    "        #fetch the existing list of authors for the clusterId\n",
    "        tempList=authorClusters[clusterId]\n",
    "        for j in curAuthorsList:\n",
    "            tempList.append(j)\n",
    "            \n",
    "        #update authorsClusters with updated authors list\n",
    "        authorClusters[clusterId]=tempList\n",
    "        \n",
    "    else: #create a new key with the new cluster id and make value list of authors for the current article\n",
    "        authorClusters[clusterId]=curAuthorsList\n",
    "\n",
    "# print clusters Id-> author ids\n",
    "\n"
   ]
  },
  {
   "cell_type": "code",
   "execution_count": 32,
   "metadata": {
    "collapsed": true
   },
   "outputs": [],
   "source": [
    "fp=open(\"Kmeans_countVectorizer_output\",\"wr\")\n",
    "\n",
    "for i in authorClusters.keys():\n",
    "    outstr=str(i) + \" => \" + str(authorClusters[i])\n",
    "    fp.write(outstr+\"\\n\")\n",
    "    fp.write(\"**************************************************************************************************************************\"+\"\\n\")\n",
    "fp.close()\n"
   ]
  },
  {
   "cell_type": "code",
   "execution_count": 33,
   "metadata": {
    "collapsed": true
   },
   "outputs": [],
   "source": [
    "%matplotlib inline"
   ]
  },
  {
   "cell_type": "code",
   "execution_count": 36,
   "metadata": {},
   "outputs": [
    {
     "name": "stdout",
     "output_type": "stream",
     "text": [
      "144686\n"
     ]
    }
   ],
   "source": [
    "print (len(titleJournalList))"
   ]
  },
  {
   "cell_type": "code",
   "execution_count": 41,
   "metadata": {
    "collapsed": true
   },
   "outputs": [],
   "source": [
    "from __future__ import print_function\n",
    "\n",
    "from sklearn.datasets import make_blobs\n",
    "from sklearn.cluster import KMeans\n",
    "from sklearn.metrics import silhouette_samples, silhouette_score, pairwise\n",
    "\n",
    "import matplotlib.pyplot as plt\n",
    "import matplotlib.cm as cm\n",
    "import numpy as np\n"
   ]
  },
  {
   "cell_type": "code",
   "execution_count": 71,
   "metadata": {
    "collapsed": true
   },
   "outputs": [],
   "source": [
    "range_n_clusters = [10,20,50,70,100,130,150,170,200]"
   ]
  },
  {
   "cell_type": "code",
   "execution_count": 72,
   "metadata": {
    "collapsed": true
   },
   "outputs": [],
   "source": [
    "valueList=[]"
   ]
  },
  {
   "cell_type": "code",
   "execution_count": 73,
   "metadata": {},
   "outputs": [
    {
     "name": "stdout",
     "output_type": "stream",
     "text": [
      "For n_clusters = 10 The average silhouette_score is : 0.0237763298455\n",
      "For n_clusters = 20 The average silhouette_score is : 0.0154335435047\n",
      "For n_clusters = 50 The average silhouette_score is : 0.0312965868245\n",
      "For n_clusters = 70 The average silhouette_score is : 0.00290032359299\n",
      "For n_clusters = 100 The average silhouette_score is : 0.0010788984768\n",
      "For n_clusters = 130 The average silhouette_score is : 0.0112553029015\n",
      "For n_clusters = 150 The average silhouette_score is : 0.0151048619907\n",
      "For n_clusters = 170 The average silhouette_score is : 0.0118369072063\n",
      "For n_clusters = 200 The average silhouette_score is : 0.0138124906216\n"
     ]
    }
   ],
   "source": [
    "for n_clusters in range_n_clusters:\n",
    "    km = KMeans(n_clusters=n_clusters, init='k-means++', max_iter=100, n_init=1,random_state=10)\n",
    "    cluster_labels = km.fit_predict(vectorized)\n",
    "    silhouette_avg = silhouette_score(vectorized, cluster_labels, metric='euclidean',sample_size=10000)\n",
    "    valueList.append(silhouette_avg)\n",
    "    print(\"For n_clusters =\", n_clusters,\"The average silhouette_score is :\", silhouette_avg)"
   ]
  },
  {
   "cell_type": "code",
   "execution_count": 75,
   "metadata": {},
   "outputs": [
    {
     "name": "stdout",
     "output_type": "stream",
     "text": [
      "For n_clusters = 10 The average silhouette_score is : 0.0207411443607\n",
      "For n_clusters = 20 The average silhouette_score is : 0.0182702724563\n",
      "For n_clusters = 50 The average silhouette_score is : 0.0343891621179\n",
      "For n_clusters = 70 The average silhouette_score is : 0.00227763476668\n",
      "For n_clusters = 100 The average silhouette_score is : 0.00263053653512\n",
      "For n_clusters = 130 The average silhouette_score is : 0.0198805833876\n",
      "For n_clusters = 150 The average silhouette_score is : 0.0213326772462\n",
      "For n_clusters = 170 The average silhouette_score is : 0.0180481606536\n",
      "For n_clusters = 200 The average silhouette_score is : 0.0161160082673\n"
     ]
    }
   ],
   "source": [
    "valueList_15000=[]\n",
    "for n_clusters in range_n_clusters:\n",
    "    km = KMeans(n_clusters=n_clusters, init='k-means++', max_iter=100, n_init=1,random_state=10)\n",
    "    cluster_labels = km.fit_predict(vectorized)\n",
    "    silhouette_avg = silhouette_score(vectorized, cluster_labels, metric='euclidean',sample_size=15000)\n",
    "    valueList_15000.append(silhouette_avg)\n",
    "    print(\"For n_clusters =\", n_clusters,\"The average silhouette_score is :\", silhouette_avg)"
   ]
  },
  {
   "cell_type": "code",
   "execution_count": 76,
   "metadata": {},
   "outputs": [
    {
     "name": "stdout",
     "output_type": "stream",
     "text": [
      "For n_clusters = 10 The average silhouette_score is : 0.025877574447\n",
      "For n_clusters = 20 The average silhouette_score is : 0.012272768688\n",
      "For n_clusters = 50 The average silhouette_score is : 0.0324678006353\n",
      "For n_clusters = 70 The average silhouette_score is : 0.0109729691681\n",
      "For n_clusters = 100 The average silhouette_score is : 0.00172382080369\n",
      "For n_clusters = 130 The average silhouette_score is : 0.00580957050039\n",
      "For n_clusters = 150 The average silhouette_score is : 0.0210882216668\n",
      "For n_clusters = 170 The average silhouette_score is : 0.0152228527141\n",
      "For n_clusters = 200 The average silhouette_score is : 0.000297259452888\n"
     ]
    }
   ],
   "source": [
    "valueList_5000=[]\n",
    "for n_clusters in range_n_clusters:\n",
    "    km = KMeans(n_clusters=n_clusters, init='k-means++', max_iter=100, n_init=1,random_state=10)\n",
    "    cluster_labels = km.fit_predict(vectorized)\n",
    "    silhouette_avg = silhouette_score(vectorized, cluster_labels, metric='euclidean',sample_size=5000)\n",
    "    valueList_5000.append(silhouette_avg)\n",
    "    print(\"For n_clusters =\", n_clusters,\"The average silhouette_score is :\", silhouette_avg)"
   ]
  },
  {
   "cell_type": "code",
   "execution_count": 81,
   "metadata": {},
   "outputs": [
    {
     "data": {
      "image/png": "[encoded data removed]",
      "text/plain": [
       "<matplotlib.figure.Figure at 0x7fd9accdfc90>"
      ]
     },
     "metadata": {},
     "output_type": "display_data"
    }
   ],
   "source": [
    "import matplotlib.pyplot as plt\n",
    "\n",
    "plt.axis([0,200,-0.01,0.06])\n",
    "plt.xlabel('No. of Clusters')\n",
    "plt.ylabel('silhouette_score')\n",
    "\n",
    "plt.plot(range_n_clusters,valueList_5000,color='b',marker='o',label='Samples=5000')\n",
    "plt.plot(range_n_clusters,valueList,color='r',marker='o',label='Samples=10000')\n",
    "plt.plot(range_n_clusters,valueList_15000,color='g',marker='o',label='Samples=15000')\n",
    "\n",
    "plt.legend()\n",
    "plt.show()"
   ]
  },
  {
   "cell_type": "code",
   "execution_count": null,
   "metadata": {
    "collapsed": true
   },
   "outputs": [],
   "source": []
  }
 ],
 "metadata": {
  "kernelspec": {
   "display_name": "Python 2",
   "language": "python",
   "name": "python2"
  },
  "language_info": {
   "codemirror_mode": {
    "name": "ipython",
    "version": 2
   },
   "file_extension": ".py",
   "mimetype": "text/x-python",
   "name": "python",
   "nbconvert_exporter": "python",
   "pygments_lexer": "ipython2",
   "version": "2.7.12"
  }
 },
 "nbformat": 4,
 "nbformat_minor": 2
}
