{
 "cells": [
  {
   "cell_type": "code",
   "execution_count": 4,
   "metadata": {},
   "outputs": [],
   "source": [
    "from sklearn.feature_extraction.text import TfidfVectorizer\n",
    "from sklearn.cluster import KMeans\n",
    "\n"
   ]
  },
  {
   "cell_type": "code",
   "execution_count": 5,
   "metadata": {
    "collapsed": true
   },
   "outputs": [],
   "source": [
    "# dictionary of title_Id -> title_name\n",
    "fp=open(\"title_Id.txt\",'r')\n",
    "\n",
    "titleId_titleName={}\n",
    "for line in fp:\n",
    "    line=line.strip().split('#')\n",
    "    #print line[0], line[1]\n",
    "    if len(line)!=2:\n",
    "        if len(line)>2:\n",
    "            key=line[-1]\n",
    "            value=\"\"\n",
    "            for i in range(len(line)-1):\n",
    "                value=value+line[i]\n",
    "            titleId_titleName[key]=value \n",
    "    else:\n",
    "        titleId_titleName[line[1]]=line[0]\n",
    "\n",
    "fp.close()\n",
    "\n",
    "    "
   ]
  },
  {
   "cell_type": "code",
   "execution_count": 6,
   "metadata": {
    "collapsed": true
   },
   "outputs": [],
   "source": [
    "# dictionary of journal_Id -> journal_name\n",
    "fp=open(\"journal_Id.txt\",'r')\n",
    "\n",
    "journalId_JournalName={}\n",
    "for line in fp:\n",
    "    line=line.strip().split(\"#\")\n",
    "    journalId_JournalName[line[1]]=line[0]\n",
    "\n",
    "fp.close()"
   ]
  },
  {
   "cell_type": "code",
   "execution_count": 7,
   "metadata": {
    "collapsed": true
   },
   "outputs": [],
   "source": [
    "# dictionary of author_Id -> author_name\n",
    "fp= open(\"author_Id.txt\",'r')\n",
    "\n",
    "authorId_authorName={}\n",
    "for line in fp:\n",
    "    line = line.strip().split(\"#\")\n",
    "    authorId_authorName[line[1]]=line[0]\n",
    "fp.close()"
   ]
  },
  {
   "cell_type": "code",
   "execution_count": 8,
   "metadata": {
    "collapsed": true
   },
   "outputs": [],
   "source": [
    "fp= open(\"title_Journal_Author.txt\",'r')\n",
    "\n",
    "authorList=[]\n",
    "titleJournalList=[]\n",
    "for line in fp:\n",
    "    line = line.strip().split(\"#\")\n",
    "    curr= titleId_titleName[line[0]] + \" \" + journalId_JournalName[line[1]]\n",
    "    titleJournalList.append(curr)\n",
    "    tempList=line[2].strip().split('|') #author ids list\n",
    "    tempNameList=[] #authors namelist\n",
    "    for i in tempList:\n",
    "        tempNameList.append(authorId_authorName[i])\n",
    "    authorList.append(tempNameList)\n",
    "    \n",
    "fp.close()"
   ]
  },
  {
   "cell_type": "code",
   "execution_count": 9,
   "metadata": {},
   "outputs": [
    {
     "name": "stdout",
     "output_type": "stream",
     "text": [
      "125296\n"
     ]
    }
   ],
   "source": [
    "# to find a no. of unique words\n",
    "vocab={}\n",
    "for line in titleJournalList:\n",
    "    wordList=line.strip().split()\n",
    "    for word in wordList:\n",
    "        if word in vocab:\n",
    "            vocab[word]=vocab[word]+1\n",
    "        else:\n",
    "            vocab[word]=1\n",
    "\n",
    "print len(vocab)"
   ]
  },
  {
   "cell_type": "code",
   "execution_count": 10,
   "metadata": {
    "collapsed": true
   },
   "outputs": [],
   "source": [
    "vectorizer = TfidfVectorizer(stop_words='english')\n",
    "vec=vectorizer.fit(titleJournalList)\n",
    "vectorized=vec.transform(titleJournalList)\n"
   ]
  },
  {
   "cell_type": "code",
   "execution_count": 11,
   "metadata": {},
   "outputs": [
    {
     "data": {
      "text/plain": [
       "KMeans(algorithm='auto', copy_x=True, init='k-means++', max_iter=100,\n",
       "    n_clusters=20, n_init=1, n_jobs=1, precompute_distances='auto',\n",
       "    random_state=None, tol=0.0001, verbose=0)"
      ]
     },
     "execution_count": 11,
     "metadata": {},
     "output_type": "execute_result"
    }
   ],
   "source": [
    "km = KMeans(n_clusters=20, init='k-means++', max_iter=100, n_init=1)\n",
    "km.fit(vectorized)\n"
   ]
  },
  {
   "cell_type": "code",
   "execution_count": 12,
   "metadata": {},
   "outputs": [
    {
     "name": "stdout",
     "output_type": "stream",
     "text": [
      "Top terms per cluster:\n",
      "Cluster 0:  software  ieee  development  engineering  iet  iee  proceedings  requirements  process  design\n",
      "Cluster 1:  engineering  software  international  knowledge  journal  based  oriented  development  systems  specification\n",
      "Cluster 2:  reliability  microelectronics  power  thermal  high  temperature  gate  failure  analysis  stress\n",
      "Cluster 3:  communications  wireless  computer  physics  sensor  networks  mobile  computing  ijdsn  hoc\n",
      "Cluster 4:  dame  notre  logic  formal  journal  modal  note  logics  propositional  theory\n",
      "Cluster 5:  neural  networks  transactions  ieee  learning  network  netw  using  time  nonlinear\n",
      "Cluster 6:  systems  decision  support  circuits  operating  computers  review  journal  based  management\n",
      "Cluster 7:  parallel  distrib  graph  comput  theory  journal  graphs  distributed  networks  algorithms\n",
      "Cluster 8:  statistics  computational  data  analysis  amp  models  estimation  regression  bayesian  model\n",
      "Cluster 9:  automatica  control  systems  linear  time  nonlinear  robust  stability  feedback  identification\n",
      "Cluster 10:  comput  physics  information  based  inf  using  synthese  jasist  jasis  technol\n",
      "Cluster 11:  security  privacy  ieee  forensics  amp  information  transactions  based  secure  face\n",
      "Cluster 12:  appl  ann  pure  logic  eng  ai  algebra  commun  comput  based\n",
      "Cluster 13:  computing  siam  scientific  ubiquitous  personal  informs  cluster  journal  method  equations\n",
      "Cluster 14:  cybernetics  human  multimedia  systems  knowing  syst  interaction  machine  based  video\n",
      "Cluster 15:  safety  sys  rel  eng  amp  reliability  analysis  risk  maintenance  systems\n",
      "Cluster 16:  des  teacuteleacutecommunications  annales  systegravemes  ingeacutenierie  information  la  et  pour  une\n",
      "Cluster 17:  syst  vlsi  trans  future  generation  comp  ieee  learning  netw  power\n",
      "Cluster 18:  knowl  data  eng  trans  based  ieee  syst  knowledge  mining  approach\n",
      "Cluster 19:  fuzzy  intelligent  journal  systems  based  making  decision  using  control  intuitionistic\n"
     ]
    }
   ],
   "source": [
    "print(\"Top terms per cluster:\")\n",
    "order_centroids = km.cluster_centers_.argsort()[:, ::-1]\n",
    "terms = vectorizer.get_feature_names()\n",
    "for i in range(20):\n",
    "    print \"Cluster %d:\" % i,\n",
    "    for ind in order_centroids[i, :10]:\n",
    "        print ' %s' % terms[ind],\n",
    "    print"
   ]
  },
  {
   "cell_type": "code",
   "execution_count": 13,
   "metadata": {
    "collapsed": true
   },
   "outputs": [],
   "source": [
    "authorClusters={} # Cluster Id to List of authorName\n",
    "for i in range(len(titleJournalList)):\n",
    "    currList=[]\n",
    "    currList.append(titleJournalList[i])\n",
    "    data_features=vec.transform(currList)\n",
    "    labels=km.predict(data_features)\n",
    "    \n",
    "    clusterId=labels[0]\n",
    "    curAuthorsList=authorList[i] #authors list for current article\n",
    "    if clusterId in authorClusters.keys():\n",
    "        #fetch the existing list of authors for the clusterId\n",
    "        tempList=authorClusters[clusterId]\n",
    "        for j in curAuthorsList:\n",
    "            tempList.append(j)\n",
    "            \n",
    "        #update authorsClusters with updated authors list\n",
    "        authorClusters[clusterId]=tempList\n",
    "        \n",
    "    else: #create a new key with the new cluster id and make value list of authors for the current article\n",
    "        authorClusters[clusterId]=curAuthorsList\n",
    "\n",
    "# print clusters Id-> author ids\n",
    "\n"
   ]
  },
  {
   "cell_type": "code",
   "execution_count": 14,
   "metadata": {
    "collapsed": true
   },
   "outputs": [],
   "source": [
    "fp=open(\"Kmeans_TfIdf_output\",\"wr\")\n",
    "\n",
    "for i in authorClusters.keys():\n",
    "    outstr=str(i) + \" => \" + str(authorClusters[i])\n",
    "    fp.write(outstr+\"\\n\")\n",
    "    fp.write(\"**************************************************************************************************************************\"+\"\\n\")\n",
    "fp.close()\n"
   ]
  },
  {
   "cell_type": "code",
   "execution_count": null,
   "metadata": {
    "collapsed": true
   },
   "outputs": [],
   "source": []
  }
 ],
 "metadata": {
  "kernelspec": {
   "display_name": "Python 2",
   "language": "python",
   "name": "python2"
  },
  "language_info": {
   "codemirror_mode": {
    "name": "ipython",
    "version": 2
   },
   "file_extension": ".py",
   "mimetype": "text/x-python",
   "name": "python",
   "nbconvert_exporter": "python",
   "pygments_lexer": "ipython2",
   "version": "2.7.12"
  }
 },
 "nbformat": 4,
 "nbformat_minor": 2
}
